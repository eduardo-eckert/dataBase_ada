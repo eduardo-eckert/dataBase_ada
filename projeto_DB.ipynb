{
 "cells": [
  {
   "cell_type": "markdown",
   "metadata": {},
   "source": [
    "3) Liste os nomes de todos os produtos que custam mais de 100 reais, ordenando-os primeiramente pelo preço e em segundo lugar pelo nome. Use alias para mostrar o nome da coluna nome como \"Produto\" e da coluna preco como \"Valor\". A resposta da consulta não deve mostrar outras colunas de dados."
   ]
  },
  {
   "cell_type": "code",
   "execution_count": null,
   "metadata": {},
   "outputs": [],
   "source": [
    "SELECT nome AS \"Produto\", preco AS \"Valor\" FROM produtos\n",
    "\tWHERE preco > 100 ORDER BY preco, nome;\n"
   ]
  },
  {
   "cell_type": "markdown",
   "metadata": {},
   "source": [
    "4) Liste todos os ids e preços de produtos cujo preço seja maior do que a média de todos os preços encontrados na tabela \"produtos\"."
   ]
  },
  {
   "cell_type": "code",
   "execution_count": null,
   "metadata": {},
   "outputs": [],
   "source": [
    "SELECT id, preco FROM produtos\n",
    "    WHERE preco > (SELECT AVG(preco) FROM produtos);"
   ]
  },
  {
   "cell_type": "markdown",
   "metadata": {},
   "source": [
    "5) Para cada categoria, mostre o preço médio do conjunto de produtos a ela associados. Caso uma categoria não tenha nenhum produto a ela associada, esta categoria não deve aparecer no resultado final. A consulta deve estar ordenada pelos nomes das categorias."
   ]
  },
  {
   "cell_type": "code",
   "execution_count": null,
   "metadata": {},
   "outputs": [],
   "source": [
    "SELECT c.nome AS \"Categoria\", \n",
    "\tAVG(p.preco) AS \"Preço Médio\" FROM categorias c\n",
    "\tJOIN produtos_categorias pc ON c.id = pc.categoria_id\n",
    "\tJOIN produtos p ON pc.produto_id = p.id\n",
    "\tGROUP BY c.id, c.nome ORDER BY c.nome;"
   ]
  },
  {
   "cell_type": "markdown",
   "metadata": {},
   "source": [
    "6) Com o objetivo de demonstrar o seu conhecimento através de um exemplo contextualizado com o dia-a-dia da escola, utilize os comandos do subgrupo de funções DDL para construir o banco de dados simples abaixo, que representa um relacionamento do tipo 1,n entre as entidades \"aluno\" e \"turma\":\n",
    "\n",
    "Tabela 1\n",
    "\n",
    "    Nome da tabela: aluno\n",
    "    Colunas da tabela: id_aluno (INT), nome_aluno (VARCHAR), aluno_alocado (BOOLEAN), id_turma (INT)\n",
    "\n",
    "Tabela 2\n",
    "\n",
    "    Nome da tabela: turma\n",
    "    Colunas da tabela: id_turma (INT), código_turma (VARCHAR), nome_turma (VARCHAR)\n"
   ]
  },
  {
   "cell_type": "code",
   "execution_count": null,
   "metadata": {},
   "outputs": [],
   "source": [
    "CREATE TABLE turma (\n",
    "    id_turma SERIAL PRIMARY KEY,\n",
    "    codigo_turma VARCHAR(20) NOT NULL,\n",
    "    nome_turma VARCHAR(100) NOT NULL\n",
    ");\n",
    "CREATE TABLE aluno (\n",
    "    id_aluno SERIAL PRIMARY KEY,\n",
    "    nome_aluno VARCHAR(100) NOT NULL,\n",
    "    aluno_alocado BOOLEAN NOT NULL,\n",
    "    id_turma INT REFERENCES turma(id_turma)\n",
    ");"
   ]
  },
  {
   "cell_type": "markdown",
   "metadata": {},
   "source": [
    "7) Agora que você demonstrou que consegue ser mais do que um simples usuário do banco de dados, mostre separadamente cada um dos códigos DML necessários para cumprir cada uma das etapas a seguir:\n",
    "\n",
    "a) Inserir pelo menos duas turmas diferentes na tabela de turma;"
   ]
  },
  {
   "cell_type": "code",
   "execution_count": null,
   "metadata": {},
   "outputs": [],
   "source": [
    "INSERT INTO turma (codigo_turma, nome_turma) VALUES\n",
    "    ('TCDA', 'Turma de Ciência de Dados A'),\n",
    "    ('TBEB', 'Turma de BackEnd B');"
   ]
  },
  {
   "cell_type": "markdown",
   "metadata": {},
   "source": [
    "b) Inserir pelo menos 1 aluno alocado em cada uma destas turmas na tabela aluno (todos com NULL na coluna aluno_alocado);\n"
   ]
  },
  {
   "cell_type": "code",
   "execution_count": null,
   "metadata": {},
   "outputs": [],
   "source": [
    "INSERT INTO aluno (nome_aluno, aluno_alocado, id_turma)\n",
    "\tVALUES ('Ash Ketchum', NULL, 1),('Light Yagami', NULL, 2);"
   ]
  },
  {
   "cell_type": "markdown",
   "metadata": {},
   "source": [
    "c) Inserir pelo menos 2 alunos não alocados em nenhuma turma na tabela aluno (todos com NULL na coluna aluno_alocado);\n"
   ]
  },
  {
   "cell_type": "code",
   "execution_count": null,
   "metadata": {},
   "outputs": [],
   "source": [
    "INSERT INTO aluno (nome_aluno, aluno_alocado, id_turma)\n",
    "\tVALUES ('Harry Potter', NULL, NULL),('Lebron James', NULL, NULL);"
   ]
  },
  {
   "cell_type": "markdown",
   "metadata": {},
   "source": [
    "d) Atualizar a coluna aluno_alocado da tabela aluno, de modo que os alunos associados a uma disciplina recebam o valor True e alunos não associdos a nenhuma disciplina recebam o falor False para esta coluna."
   ]
  },
  {
   "cell_type": "code",
   "execution_count": null,
   "metadata": {},
   "outputs": [],
   "source": [
    "UPDATE aluno SET aluno_alocado = CASE\n",
    "    WHEN id_turma IS NOT NULL THEN TRUE\n",
    "    ELSE FALSE\n",
    "    END;"
   ]
  }
 ],
 "metadata": {
  "language_info": {
   "name": "python"
  },
  "orig_nbformat": 4
 },
 "nbformat": 4,
 "nbformat_minor": 2
}
